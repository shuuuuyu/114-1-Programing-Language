{
  "nbformat": 4,
  "nbformat_minor": 0,
  "metadata": {
    "colab": {
      "provenance": [],
      "authorship_tag": "ABX9TyMBu5tNCMofEmKsRiI0YkY2",
      "include_colab_link": true
    },
    "kernelspec": {
      "name": "python3",
      "display_name": "Python 3"
    },
    "language_info": {
      "name": "python"
    }
  },
  "cells": [
    {
      "cell_type": "markdown",
      "metadata": {
        "id": "view-in-github",
        "colab_type": "text"
      },
      "source": [
        "<a href=\"https://colab.research.google.com/github/shuuuuyu/114-1-Programing-Language/blob/main/hw_1_%E6%97%A5%E5%B8%B8%E6%94%AF%E5%87%BA%E9%80%9F%E7%AE%97%E8%88%87%E5%88%86%E6%94%A4.ipynb\" target=\"_parent\"><img src=\"https://colab.research.google.com/assets/colab-badge.svg\" alt=\"Open In Colab\"/></a>"
      ]
    },
    {
      "cell_type": "markdown",
      "source": [
        "功能:\n",
        "目標：從 Sheet 讀「消費紀錄」→ 計總額/分類小計/AA 分攤 → 寫回 Sheet Summary 分頁。\n",
        "AI 點子（可選）：請模型總結本週花錢習慣與建議（例如「外食過多」）。\n",
        "Sheet 欄位：date, category, item, amount, payer\n",
        "\n",
        "\n",
        "整體要求，我希望程式碼可以整齊，例如程式掛載在最前面，板塊一個一個寫，最後使用gradio顯示，我希望AI建議的功能先空著，我到時候再貼上，請你幫我留位置\n",
        "目標:記帳軟體\n",
        "板塊一:AA功能\n",
        "我希望AA功能可以是輸入大家要支付的總金額，選單選擇加幾成服務費，顯示金額\n",
        "接著最後有個按鈕，直接輸入到我的google sheet的外食欄位，喔對了，可以多加一格輸入，這餐吃的是甚麼\n",
        "板塊二:記錄消費的時間、選擇種類(外食/買菜/日用品)、金額，項目名稱(例如外食就是食物名稱或餐廳名稱都可以，買菜就是材料名稱，日用品就是日用品名稱)\n",
        "我希望在這裡加上連接外部google sheet的功能，我會把檔案設成知道連結的所有人都可以編輯，所以應該不需要資格憑證之類的，然後我會給你一個連結，這樣你應該可以用最簡單的邏輯去寫這段連接google sheet的程式\n",
        "板塊三:AI點子，讀取近一周的數據，給予建議\n",
        "我希望這一塊你可以先寫個按鈕，顯示最近一周的消費，分別顯示每個種類的消費明細\n",
        "最後加個AI板塊，請模型總結本週花錢習慣與建議（例如「外食過多」）"
      ],
      "metadata": {
        "id": "Vi7wLHrsd9QR"
      }
    },
    {
      "cell_type": "code",
      "source": [
        "# ==============================\n",
        "# 掛載與套件載入\n",
        "# ==============================\n",
        "import pandas as pd\n",
        "import gradio as gr\n",
        "import datetime\n",
        "import gspread\n",
        "from google.colab import auth\n",
        "from google.auth.transport.requests import Request\n",
        "from google.auth import default\n",
        "\n",
        "# ==============================\n",
        "# Google 帳號授權\n",
        "# ==============================\n",
        "auth.authenticate_user()   # 會跳出 Google 登入\n",
        "creds, _ = default()\n",
        "gc = gspread.authorize(creds)\n",
        "\n",
        "# 你的 Google Sheet ID\n",
        "SHEET_ID = \"1MbCem2-X-1vTViIxN9j5Eu_C6fh-AtZQkTaIrzOE7Ok\"\n",
        "\n",
        "# 打開第一個工作表\n",
        "sh = gc.open_by_key(SHEET_ID)\n",
        "worksheet = sh.sheet1\n",
        "\n",
        "\n",
        "# ==============================\n",
        "# 板塊一：AA 功能\n",
        "# ==============================\n",
        "def aa_function(total_amount, service_fee_percent, people_count, description):\n",
        "    if service_fee_percent is None:\n",
        "        service_fee_percent = 0\n",
        "    if people_count is None or people_count <= 0:\n",
        "        people_count = 1\n",
        "\n",
        "    final_amount = total_amount * (1 + service_fee_percent / 100)\n",
        "    per_person = final_amount / people_count\n",
        "\n",
        "    now = datetime.datetime.now().strftime(\"%Y-%m-%d %H:%M:%S\")\n",
        "    new_record = [now, \"外食\", final_amount, description, f\"含{service_fee_percent}%服務費, {people_count}人分攤, 每人{per_person:.2f}\"]\n",
        "\n",
        "    worksheet.append_row(new_record)\n",
        "\n",
        "    return f\"總金額 {final_amount:.2f} 元，每人分攤 {per_person:.2f} 元，已新增到 Google Sheet。\"\n",
        "\n",
        "\n",
        "# ==============================\n",
        "# 板塊二：記帳功能\n",
        "# ==============================\n",
        "def record_expense(expense_type, amount, item_name, note):\n",
        "    now = datetime.datetime.now().strftime(\"%Y-%m-%d %H:%M:%S\")\n",
        "    new_record = [now, expense_type, amount, item_name, note]\n",
        "\n",
        "    worksheet.append_row(new_record)\n",
        "\n",
        "    return f\"成功記錄：{expense_type} - {item_name} - {amount} 元\"\n",
        "\n",
        "\n",
        "# ==============================\n",
        "# 板塊三：AI 點子\n",
        "# ==============================\n",
        "def analyze_week():\n",
        "    data = worksheet.get_all_records()\n",
        "    df = pd.DataFrame(data)\n",
        "    df[\"時間\"] = pd.to_datetime(df[\"時間\"], errors=\"coerce\")\n",
        "\n",
        "    one_week_ago = datetime.datetime.now() - datetime.timedelta(days=7)\n",
        "    recent_df = df[df[\"時間\"] >= one_week_ago]\n",
        "\n",
        "    summary = recent_df.groupby(\"種類\")[\"金額\"].sum().reset_index()\n",
        "    detail = recent_df[[\"時間\", \"種類\", \"金額\", \"項目名稱\"]]\n",
        "\n",
        "    return summary, detail\n",
        "\n",
        "\n",
        "def ai_suggestion():\n",
        "    return \"AI 建議功能尚未實作，這裡會顯示模型輸出的建議。\"\n",
        "\n",
        "\n",
        "# ==============================\n",
        "# Gradio 介面\n",
        "# ==============================\n",
        "with gr.Blocks() as demo:\n",
        "    gr.Markdown(\"## 記帳軟體\")\n",
        "\n",
        "    # 板塊一\n",
        "    with gr.Tab(\"AA 功能\"):\n",
        "        total_input = gr.Number(label=\"總金額\")\n",
        "        fee_input = gr.Dropdown([0, 5, 10], label=\"服務費 (%)\", value=0)\n",
        "        people_input = gr.Number(label=\"分攤人數\", value=1)\n",
        "        desc_input = gr.Textbox(label=\"餐點/描述\")\n",
        "        aa_btn = gr.Button(\"送出\")\n",
        "        aa_output = gr.Textbox(label=\"結果\")\n",
        "        aa_btn.click(fn=aa_function, inputs=[total_input, fee_input, people_input, desc_input], outputs=aa_output)\n",
        "\n",
        "    # 板塊二\n",
        "    with gr.Tab(\"記帳功能\"):\n",
        "        type_input = gr.Dropdown([\"外食\", \"買菜\", \"日用品\"], label=\"種類\")\n",
        "        amount_input = gr.Number(label=\"金額\")\n",
        "        item_input = gr.Textbox(label=\"項目名稱\")\n",
        "        note_input = gr.Textbox(label=\"備註\")\n",
        "        record_btn = gr.Button(\"記錄消費\")\n",
        "        record_output = gr.Textbox(label=\"結果\")\n",
        "        record_btn.click(fn=record_expense, inputs=[type_input, amount_input, item_input, note_input], outputs=record_output)\n",
        "\n",
        "    # 板塊三\n",
        "    with gr.Tab(\"AI 點子\"):\n",
        "        analyze_btn = gr.Button(\"查看最近一週消費\")\n",
        "        summary_output = gr.Dataframe(label=\"各種類總結\")\n",
        "        detail_output = gr.Dataframe(label=\"詳細消費\")\n",
        "        analyze_btn.click(fn=analyze_week, inputs=[], outputs=[summary_output, detail_output])\n",
        "\n",
        "        suggestion_btn = gr.Button(\"AI 給建議\")\n",
        "        suggestion_output = gr.Textbox(label=\"AI 建議\")\n",
        "        suggestion_btn.click(fn=ai_suggestion, outputs=suggestion_output)\n",
        "\n",
        "# 啟動\n",
        "demo.launch()\n"
      ],
      "metadata": {
        "colab": {
          "base_uri": "https://localhost:8080/",
          "height": 646
        },
        "id": "68JMpCiwnNgS",
        "outputId": "d55480aa-a4d9-49b4-9992-d2f709f76d21"
      },
      "execution_count": 29,
      "outputs": [
        {
          "output_type": "stream",
          "name": "stdout",
          "text": [
            "It looks like you are running Gradio on a hosted Jupyter notebook, which requires `share=True`. Automatically setting `share=True` (you can turn this off by setting `share=False` in `launch()` explicitly).\n",
            "\n",
            "Colab notebook detected. To show errors in colab notebook, set debug=True in launch()\n",
            "* Running on public URL: https://9894da82bdda2a6d9c.gradio.live\n",
            "\n",
            "This share link expires in 1 week. For free permanent hosting and GPU upgrades, run `gradio deploy` from the terminal in the working directory to deploy to Hugging Face Spaces (https://huggingface.co/spaces)\n"
          ]
        },
        {
          "output_type": "display_data",
          "data": {
            "text/plain": [
              "<IPython.core.display.HTML object>"
            ],
            "text/html": [
              "<div><iframe src=\"https://9894da82bdda2a6d9c.gradio.live\" width=\"100%\" height=\"500\" allow=\"autoplay; camera; microphone; clipboard-read; clipboard-write;\" frameborder=\"0\" allowfullscreen></iframe></div>"
            ]
          },
          "metadata": {}
        },
        {
          "output_type": "execute_result",
          "data": {
            "text/plain": []
          },
          "metadata": {},
          "execution_count": 29
        }
      ]
    }
  ]
}