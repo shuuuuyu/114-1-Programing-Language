{
  "nbformat": 4,
  "nbformat_minor": 0,
  "metadata": {
    "colab": {
      "provenance": [],
      "authorship_tag": "ABX9TyNR82y/cMc+09UHyXWHx7+Y",
      "include_colab_link": true
    },
    "kernelspec": {
      "name": "python3",
      "display_name": "Python 3"
    },
    "language_info": {
      "name": "python"
    }
  },
  "cells": [
    {
      "cell_type": "markdown",
      "metadata": {
        "id": "view-in-github",
        "colab_type": "text"
      },
      "source": [
        "<a href=\"https://colab.research.google.com/github/shuuuuyu/114-1-Programing-Language/blob/main/hw_1_%E6%97%A5%E5%B8%B8%E6%94%AF%E5%87%BA%E9%80%9F%E7%AE%97%E8%88%87%E5%88%86%E6%94%A4.ipynb\" target=\"_parent\"><img src=\"https://colab.research.google.com/assets/colab-badge.svg\" alt=\"Open In Colab\"/></a>"
      ]
    },
    {
      "cell_type": "markdown",
      "source": [
        "# 記帳軟體作業說明\n",
        "\n",
        "## 目標\n",
        "設計一個簡易的記帳系統，功能包含：\n",
        "1. **AA 功能**：計算每人分攤金額，並記錄至 Google Sheet。\n",
        "2. **記帳功能**：記錄消費的時間、種類、金額、項目名稱與備註。\n",
        "3. **AI 點子板塊**：分析最近一週的消費，提供統計與建議。\n",
        "\n",
        "---\n",
        "\n",
        "## 功能板塊\n",
        "\n",
        "### 1. AA 功能\n",
        "- 輸入總金額。\n",
        "- 選擇服務費百分比（0%、5%、10%）。\n",
        "- 輸入分攤人數。\n",
        "- 額外輸入餐點或描述文字。\n",
        "- 系統會計算每人應付金額，並寫入 Google Sheet 的「外食」欄位。\n",
        "\n",
        "### 2. 記帳功能\n",
        "- 輸入以下欄位：\n",
        "  - 消費種類：外食、買菜、日用品\n",
        "  - 金額\n",
        "  - 項目名稱（如餐廳名稱、材料名稱、日用品名稱）\n",
        "  - 備註\n",
        "- 記錄會直接寫入 Google Sheet。\n",
        "- Google Sheet 設定為「知道連結的使用者可以編輯」，無需服務帳號憑證。\n",
        "\n",
        "### 3. AI 點子板塊\n",
        "- 顯示最近一週的消費：\n",
        "  - 每個種類的總金額\n",
        "  - 每筆消費明細\n",
        "- AI 分析功能：\n",
        "  - 後續可使用模型提供消費習慣分析與建議（例如「外食過多」）\n",
        "\n",
        "---\n",
        "\n",
        "## 使用方式\n",
        "1. 開啟程式，會跳出 Google 登入授權視窗，登入後可操作 Google Sheet。\n",
        "2. 在 **AA 功能** 或 **記帳功能** 填入資料，按下送出按鈕，即可寫入 Google Sheet。\n",
        "3. 前往 **AI 點子板塊**，點擊「查看最近一週消費」以統計消費資料。\n",
        "4. AI 建議按鈕目前保留，後續可補上分析模型。\n",
        "\n",
        "---\n",
        "\n",
        "## Google Sheet 格式\n",
        "- Sheet 欄位：\n",
        "  - 時間\n",
        "  - 種類\n",
        "  - 金額\n",
        "  - 項目名稱\n",
        "  - 備註\n",
        "- 系統會自動將資料新增至該 Sheet。\n",
        "\n",
        "---\n",
        "\n",
        "## 備註\n",
        "- 程式使用 Google OAuth 登入，不需 Service Account JSON。\n",
        "- AA 功能會將分攤後金額寫入 Google Sheet，方便統計。\n",
        "- 程式使用 Gradio 建立簡易網頁介面，方便操作。\n"
      ],
      "metadata": {
        "id": "KHPbR8zxwRHX"
      }
    },
    {
      "cell_type": "markdown",
      "source": [
        "## AI 測試"
      ],
      "metadata": {
        "id": "5DGYIrTV1KSt"
      }
    },
    {
      "cell_type": "code",
      "source": [
        "import os\n",
        "from google.colab import userdata\n",
        "from openai import OpenAI"
      ],
      "metadata": {
        "id": "HqM1lQ331RoJ"
      },
      "execution_count": 1,
      "outputs": []
    },
    {
      "cell_type": "code",
      "source": [
        "!pip install openai\n",
        "!pip install gradio"
      ],
      "metadata": {
        "colab": {
          "base_uri": "https://localhost:8080/"
        },
        "collapsed": true,
        "id": "GXy-qS-IsKmq",
        "outputId": "993bb4ca-8316-4e7e-ba36-19f91fa12da8"
      },
      "execution_count": 9,
      "outputs": [
        {
          "output_type": "stream",
          "name": "stdout",
          "text": [
            "Requirement already satisfied: openai in /usr/local/lib/python3.12/dist-packages (1.106.1)\n",
            "Requirement already satisfied: anyio<5,>=3.5.0 in /usr/local/lib/python3.12/dist-packages (from openai) (4.10.0)\n",
            "Requirement already satisfied: distro<2,>=1.7.0 in /usr/local/lib/python3.12/dist-packages (from openai) (1.9.0)\n",
            "Requirement already satisfied: httpx<1,>=0.23.0 in /usr/local/lib/python3.12/dist-packages (from openai) (0.28.1)\n",
            "Requirement already satisfied: jiter<1,>=0.4.0 in /usr/local/lib/python3.12/dist-packages (from openai) (0.10.0)\n",
            "Requirement already satisfied: pydantic<3,>=1.9.0 in /usr/local/lib/python3.12/dist-packages (from openai) (2.11.7)\n",
            "Requirement already satisfied: sniffio in /usr/local/lib/python3.12/dist-packages (from openai) (1.3.1)\n",
            "Requirement already satisfied: tqdm>4 in /usr/local/lib/python3.12/dist-packages (from openai) (4.67.1)\n",
            "Requirement already satisfied: typing-extensions<5,>=4.11 in /usr/local/lib/python3.12/dist-packages (from openai) (4.15.0)\n",
            "Requirement already satisfied: idna>=2.8 in /usr/local/lib/python3.12/dist-packages (from anyio<5,>=3.5.0->openai) (3.10)\n",
            "Requirement already satisfied: certifi in /usr/local/lib/python3.12/dist-packages (from httpx<1,>=0.23.0->openai) (2025.8.3)\n",
            "Requirement already satisfied: httpcore==1.* in /usr/local/lib/python3.12/dist-packages (from httpx<1,>=0.23.0->openai) (1.0.9)\n",
            "Requirement already satisfied: h11>=0.16 in /usr/local/lib/python3.12/dist-packages (from httpcore==1.*->httpx<1,>=0.23.0->openai) (0.16.0)\n",
            "Requirement already satisfied: annotated-types>=0.6.0 in /usr/local/lib/python3.12/dist-packages (from pydantic<3,>=1.9.0->openai) (0.7.0)\n",
            "Requirement already satisfied: pydantic-core==2.33.2 in /usr/local/lib/python3.12/dist-packages (from pydantic<3,>=1.9.0->openai) (2.33.2)\n",
            "Requirement already satisfied: typing-inspection>=0.4.0 in /usr/local/lib/python3.12/dist-packages (from pydantic<3,>=1.9.0->openai) (0.4.1)\n",
            "Requirement already satisfied: gradio in /usr/local/lib/python3.12/dist-packages (5.44.1)\n",
            "Requirement already satisfied: aiofiles<25.0,>=22.0 in /usr/local/lib/python3.12/dist-packages (from gradio) (24.1.0)\n",
            "Requirement already satisfied: anyio<5.0,>=3.0 in /usr/local/lib/python3.12/dist-packages (from gradio) (4.10.0)\n",
            "Requirement already satisfied: brotli>=1.1.0 in /usr/local/lib/python3.12/dist-packages (from gradio) (1.1.0)\n",
            "Requirement already satisfied: fastapi<1.0,>=0.115.2 in /usr/local/lib/python3.12/dist-packages (from gradio) (0.116.1)\n",
            "Requirement already satisfied: ffmpy in /usr/local/lib/python3.12/dist-packages (from gradio) (0.6.1)\n",
            "Requirement already satisfied: gradio-client==1.12.1 in /usr/local/lib/python3.12/dist-packages (from gradio) (1.12.1)\n",
            "Requirement already satisfied: groovy~=0.1 in /usr/local/lib/python3.12/dist-packages (from gradio) (0.1.2)\n",
            "Requirement already satisfied: httpx<1.0,>=0.24.1 in /usr/local/lib/python3.12/dist-packages (from gradio) (0.28.1)\n",
            "Requirement already satisfied: huggingface-hub<1.0,>=0.33.5 in /usr/local/lib/python3.12/dist-packages (from gradio) (0.34.4)\n",
            "Requirement already satisfied: jinja2<4.0 in /usr/local/lib/python3.12/dist-packages (from gradio) (3.1.6)\n",
            "Requirement already satisfied: markupsafe<4.0,>=2.0 in /usr/local/lib/python3.12/dist-packages (from gradio) (3.0.2)\n",
            "Requirement already satisfied: numpy<3.0,>=1.0 in /usr/local/lib/python3.12/dist-packages (from gradio) (2.0.2)\n",
            "Requirement already satisfied: orjson~=3.0 in /usr/local/lib/python3.12/dist-packages (from gradio) (3.11.3)\n",
            "Requirement already satisfied: packaging in /usr/local/lib/python3.12/dist-packages (from gradio) (25.0)\n",
            "Requirement already satisfied: pandas<3.0,>=1.0 in /usr/local/lib/python3.12/dist-packages (from gradio) (2.2.2)\n",
            "Requirement already satisfied: pillow<12.0,>=8.0 in /usr/local/lib/python3.12/dist-packages (from gradio) (11.3.0)\n",
            "Requirement already satisfied: pydantic<2.12,>=2.0 in /usr/local/lib/python3.12/dist-packages (from gradio) (2.11.7)\n",
            "Requirement already satisfied: pydub in /usr/local/lib/python3.12/dist-packages (from gradio) (0.25.1)\n",
            "Requirement already satisfied: python-multipart>=0.0.18 in /usr/local/lib/python3.12/dist-packages (from gradio) (0.0.20)\n",
            "Requirement already satisfied: pyyaml<7.0,>=5.0 in /usr/local/lib/python3.12/dist-packages (from gradio) (6.0.2)\n",
            "Requirement already satisfied: ruff>=0.9.3 in /usr/local/lib/python3.12/dist-packages (from gradio) (0.12.12)\n",
            "Requirement already satisfied: safehttpx<0.2.0,>=0.1.6 in /usr/local/lib/python3.12/dist-packages (from gradio) (0.1.6)\n",
            "Requirement already satisfied: semantic-version~=2.0 in /usr/local/lib/python3.12/dist-packages (from gradio) (2.10.0)\n",
            "Requirement already satisfied: starlette<1.0,>=0.40.0 in /usr/local/lib/python3.12/dist-packages (from gradio) (0.47.3)\n",
            "Requirement already satisfied: tomlkit<0.14.0,>=0.12.0 in /usr/local/lib/python3.12/dist-packages (from gradio) (0.13.3)\n",
            "Requirement already satisfied: typer<1.0,>=0.12 in /usr/local/lib/python3.12/dist-packages (from gradio) (0.17.3)\n",
            "Requirement already satisfied: typing-extensions~=4.0 in /usr/local/lib/python3.12/dist-packages (from gradio) (4.15.0)\n",
            "Requirement already satisfied: uvicorn>=0.14.0 in /usr/local/lib/python3.12/dist-packages (from gradio) (0.35.0)\n",
            "Requirement already satisfied: fsspec in /usr/local/lib/python3.12/dist-packages (from gradio-client==1.12.1->gradio) (2025.3.0)\n",
            "Requirement already satisfied: websockets<16.0,>=10.0 in /usr/local/lib/python3.12/dist-packages (from gradio-client==1.12.1->gradio) (15.0.1)\n",
            "Requirement already satisfied: idna>=2.8 in /usr/local/lib/python3.12/dist-packages (from anyio<5.0,>=3.0->gradio) (3.10)\n",
            "Requirement already satisfied: sniffio>=1.1 in /usr/local/lib/python3.12/dist-packages (from anyio<5.0,>=3.0->gradio) (1.3.1)\n",
            "Requirement already satisfied: certifi in /usr/local/lib/python3.12/dist-packages (from httpx<1.0,>=0.24.1->gradio) (2025.8.3)\n",
            "Requirement already satisfied: httpcore==1.* in /usr/local/lib/python3.12/dist-packages (from httpx<1.0,>=0.24.1->gradio) (1.0.9)\n",
            "Requirement already satisfied: h11>=0.16 in /usr/local/lib/python3.12/dist-packages (from httpcore==1.*->httpx<1.0,>=0.24.1->gradio) (0.16.0)\n",
            "Requirement already satisfied: filelock in /usr/local/lib/python3.12/dist-packages (from huggingface-hub<1.0,>=0.33.5->gradio) (3.19.1)\n",
            "Requirement already satisfied: requests in /usr/local/lib/python3.12/dist-packages (from huggingface-hub<1.0,>=0.33.5->gradio) (2.32.4)\n",
            "Requirement already satisfied: tqdm>=4.42.1 in /usr/local/lib/python3.12/dist-packages (from huggingface-hub<1.0,>=0.33.5->gradio) (4.67.1)\n",
            "Requirement already satisfied: hf-xet<2.0.0,>=1.1.3 in /usr/local/lib/python3.12/dist-packages (from huggingface-hub<1.0,>=0.33.5->gradio) (1.1.9)\n",
            "Requirement already satisfied: python-dateutil>=2.8.2 in /usr/local/lib/python3.12/dist-packages (from pandas<3.0,>=1.0->gradio) (2.9.0.post0)\n",
            "Requirement already satisfied: pytz>=2020.1 in /usr/local/lib/python3.12/dist-packages (from pandas<3.0,>=1.0->gradio) (2025.2)\n",
            "Requirement already satisfied: tzdata>=2022.7 in /usr/local/lib/python3.12/dist-packages (from pandas<3.0,>=1.0->gradio) (2025.2)\n",
            "Requirement already satisfied: annotated-types>=0.6.0 in /usr/local/lib/python3.12/dist-packages (from pydantic<2.12,>=2.0->gradio) (0.7.0)\n",
            "Requirement already satisfied: pydantic-core==2.33.2 in /usr/local/lib/python3.12/dist-packages (from pydantic<2.12,>=2.0->gradio) (2.33.2)\n",
            "Requirement already satisfied: typing-inspection>=0.4.0 in /usr/local/lib/python3.12/dist-packages (from pydantic<2.12,>=2.0->gradio) (0.4.1)\n",
            "Requirement already satisfied: click>=8.0.0 in /usr/local/lib/python3.12/dist-packages (from typer<1.0,>=0.12->gradio) (8.2.1)\n",
            "Requirement already satisfied: shellingham>=1.3.0 in /usr/local/lib/python3.12/dist-packages (from typer<1.0,>=0.12->gradio) (1.5.4)\n",
            "Requirement already satisfied: rich>=10.11.0 in /usr/local/lib/python3.12/dist-packages (from typer<1.0,>=0.12->gradio) (13.9.4)\n",
            "Requirement already satisfied: six>=1.5 in /usr/local/lib/python3.12/dist-packages (from python-dateutil>=2.8.2->pandas<3.0,>=1.0->gradio) (1.17.0)\n",
            "Requirement already satisfied: markdown-it-py>=2.2.0 in /usr/local/lib/python3.12/dist-packages (from rich>=10.11.0->typer<1.0,>=0.12->gradio) (4.0.0)\n",
            "Requirement already satisfied: pygments<3.0.0,>=2.13.0 in /usr/local/lib/python3.12/dist-packages (from rich>=10.11.0->typer<1.0,>=0.12->gradio) (2.19.2)\n",
            "Requirement already satisfied: charset_normalizer<4,>=2 in /usr/local/lib/python3.12/dist-packages (from requests->huggingface-hub<1.0,>=0.33.5->gradio) (3.4.3)\n",
            "Requirement already satisfied: urllib3<3,>=1.21.1 in /usr/local/lib/python3.12/dist-packages (from requests->huggingface-hub<1.0,>=0.33.5->gradio) (2.5.0)\n",
            "Requirement already satisfied: mdurl~=0.1 in /usr/local/lib/python3.12/dist-packages (from markdown-it-py>=2.2.0->rich>=10.11.0->typer<1.0,>=0.12->gradio) (0.1.2)\n"
          ]
        }
      ]
    },
    {
      "cell_type": "code",
      "source": [
        "title = \"理財消費分析器\"\n",
        "\n",
        "system = '''你是一個消費與理財分析專家，專門分析使用者的消費數據。請以專業、清晰且友善的語氣，對以下消費數據提供建議。\n",
        "\n",
        "分析內容應包括：\n",
        "1. 消費習慣觀察（例如：外食頻率過高、日用品花費分布）\n",
        "2. 主要花費項目與金額占比\n",
        "3. 節省或調整建議\n",
        "4. 理財提醒與下一步行動建議\n",
        "\n",
        "請用台灣熟悉的繁體中文回答。\n",
        "請保持語氣親切、實用，不要加不必要的示例或說明文字。\n",
        "'''\n",
        "\n",
        "description = '''\n",
        "想要了解自己的消費習慣並獲得理財建議？\n",
        "這個生成器專為「消費分析與理財建議」設計。\n",
        "只要提供最近一週的消費數據，它就會生成消費統計、問題觀察與改善建議，幫助你更好地掌控花費。\n",
        "'''\n"
      ],
      "metadata": {
        "id": "RWyJ7_lg12AD"
      },
      "execution_count": 18,
      "outputs": []
    },
    {
      "cell_type": "code",
      "source": [
        "messages = [{\"role\":\"system\",\n",
        "             \"content\":system}]"
      ],
      "metadata": {
        "id": "Ko7CUXiYtm32"
      },
      "execution_count": 21,
      "outputs": []
    },
    {
      "cell_type": "code",
      "source": [
        "api_key = userdata.get('groq-pl')\n",
        "model = \"qwen/qwen3-32b\"\n",
        "base_url=\"https://api.groq.com/openai/v1\""
      ],
      "metadata": {
        "id": "xp4UshqZ1Vxs"
      },
      "execution_count": 27,
      "outputs": []
    },
    {
      "cell_type": "code",
      "source": [
        "client = OpenAI(\n",
        "    base_url = base_url # 如用 OpenAI 不需要這一行\n",
        ")"
      ],
      "metadata": {
        "id": "ZtST3-ETr--J"
      },
      "execution_count": 15,
      "outputs": []
    },
    {
      "cell_type": "code",
      "source": [
        "os.environ['OPENAI_API_KEY']=api_key"
      ],
      "metadata": {
        "id": "v2-p5CYc1fHI"
      },
      "execution_count": 17,
      "outputs": []
    },
    {
      "cell_type": "code",
      "source": [
        "def mychatbot(prompt):\n",
        "    messages.append({\"role\": \"user\", \"content\": prompt})\n",
        "    chat_completion = client.chat.completions.create(\n",
        "        messages=messages,\n",
        "        model=model,\n",
        "        )\n",
        "    reply = chat_completion.choices[0].message.content\n",
        "    return reply"
      ],
      "metadata": {
        "id": "YcmF8srLOvcw"
      },
      "execution_count": 19,
      "outputs": []
    },
    {
      "cell_type": "code",
      "source": [
        "iface = gr.Interface(mychatbot,\n",
        "                     inputs=\"text\",\n",
        "                     outputs=\"text\",\n",
        "                     title=title,\n",
        "                     description=description)\n",
        "\n",
        "\n",
        "iface.launch(share=True, debug=True)"
      ],
      "metadata": {
        "colab": {
          "base_uri": "https://localhost:8080/",
          "height": 663
        },
        "id": "p5NmN6MuOqkY",
        "outputId": "921f4f65-638b-4844-fa5a-1f956e28f659"
      },
      "execution_count": 28,
      "outputs": [
        {
          "output_type": "stream",
          "name": "stdout",
          "text": [
            "Colab notebook detected. This cell will run indefinitely so that you can see errors and logs. To turn off, set debug=False in launch().\n",
            "* Running on public URL: https://db4b0cba9a93ac52d0.gradio.live\n",
            "\n",
            "This share link expires in 1 week. For free permanent hosting and GPU upgrades, run `gradio deploy` from the terminal in the working directory to deploy to Hugging Face Spaces (https://huggingface.co/spaces)\n"
          ]
        },
        {
          "output_type": "display_data",
          "data": {
            "text/plain": [
              "<IPython.core.display.HTML object>"
            ],
            "text/html": [
              "<div><iframe src=\"https://db4b0cba9a93ac52d0.gradio.live\" width=\"100%\" height=\"500\" allow=\"autoplay; camera; microphone; clipboard-read; clipboard-write;\" frameborder=\"0\" allowfullscreen></iframe></div>"
            ]
          },
          "metadata": {}
        },
        {
          "output_type": "stream",
          "name": "stdout",
          "text": [
            "Using existing dataset file at: .gradio/flagged/dataset1.csv\n",
            "Keyboard interruption in main thread... closing server.\n",
            "Killing tunnel 127.0.0.1:7861 <> https://db4b0cba9a93ac52d0.gradio.live\n"
          ]
        },
        {
          "output_type": "execute_result",
          "data": {
            "text/plain": []
          },
          "metadata": {},
          "execution_count": 28
        }
      ]
    },
    {
      "cell_type": "markdown",
      "source": [
        "## 主要程式"
      ],
      "metadata": {
        "id": "tVHpdV_b1HbG"
      }
    },
    {
      "cell_type": "code",
      "source": [
        "# ==============================\n",
        "# 掛載與套件載入\n",
        "# ==============================\n",
        "import pandas as pd\n",
        "import gradio as gr\n",
        "import datetime\n",
        "import gspread\n",
        "from google.colab import auth\n",
        "from google.auth.transport.requests import Request\n",
        "from google.auth import default\n",
        "\n",
        "# ==============================\n",
        "# Google 帳號授權\n",
        "# ==============================\n",
        "auth.authenticate_user()   # 會跳出 Google 登入\n",
        "creds, _ = default()\n",
        "gc = gspread.authorize(creds)\n",
        "\n",
        "# 你的 Google Sheet ID\n",
        "SHEET_ID = \"1MbCem2-X-1vTViIxN9j5Eu_C6fh-AtZQkTaIrzOE7Ok\"\n",
        "\n",
        "# 打開第一個工作表\n",
        "sh = gc.open_by_key(SHEET_ID)\n",
        "worksheet = sh.sheet1\n",
        "\n",
        "\n",
        "# ==============================\n",
        "# 板塊一：AA 功能\n",
        "# ==============================\n",
        "def aa_function(total_amount, service_fee_percent, people_count, description):\n",
        "    if service_fee_percent is None:\n",
        "        service_fee_percent = 0\n",
        "    if people_count is None or people_count <= 0:\n",
        "        people_count = 1\n",
        "\n",
        "    final_amount = total_amount * (1 + service_fee_percent / 100)\n",
        "    per_person = final_amount / people_count\n",
        "\n",
        "    now = datetime.datetime.now().strftime(\"%Y-%m-%d %H:%M:%S\")\n",
        "    new_record = [now, \"外食\", per_person, description, f\"含{service_fee_percent}%服務費, {people_count}人分攤\"]\n",
        "\n",
        "    worksheet.append_row(new_record)\n",
        "\n",
        "    return f\"總金額 {final_amount:.2f} 元，每人分攤 {per_person:.2f} 元，已新增到 Google Sheet。\"\n",
        "\n",
        "\n",
        "# ==============================\n",
        "# 板塊二：記帳功能\n",
        "# ==============================\n",
        "def record_expense(expense_type, amount, item_name, note):\n",
        "    now = datetime.datetime.now().strftime(\"%Y-%m-%d %H:%M:%S\")\n",
        "    new_record = [now, expense_type, amount, item_name, note]\n",
        "\n",
        "    worksheet.append_row(new_record)\n",
        "\n",
        "    return f\"成功記錄：{expense_type} - {item_name} - {amount} 元\"\n",
        "\n",
        "'''\n",
        "# ==============================\n",
        "# 板塊三：AI 點子\n",
        "# ==============================\n",
        "def analyze_week():\n",
        "    data = worksheet.get_all_records()\n",
        "    df = pd.DataFrame(data)\n",
        "    df[\"時間\"] = pd.to_datetime(df[\"時間\"], errors=\"coerce\")\n",
        "\n",
        "    one_week_ago = datetime.datetime.now() - datetime.timedelta(days=7)\n",
        "    recent_df = df[df[\"時間\"] >= one_week_ago]\n",
        "\n",
        "    summary = recent_df.groupby(\"種類\")[\"金額\"].sum().reset_index()\n",
        "    detail = recent_df[[\"時間\", \"種類\", \"金額\", \"項目名稱\"]]\n",
        "\n",
        "    return summary, detail\n",
        "\n",
        "\n",
        "def ai_suggestion():\n",
        "    return \"AI 建議功能尚未實作，這裡會顯示模型輸出的建議。\"\n",
        "    '''\n",
        "\n",
        "\n",
        "# ==============================\n",
        "# Gradio 介面\n",
        "# ==============================\n",
        "with gr.Blocks() as demo:\n",
        "    gr.Markdown(\"## 記帳軟體\")\n",
        "\n",
        "    # 板塊一\n",
        "    with gr.Tab(\"AA 功能\"):\n",
        "        total_input = gr.Number(label=\"總金額\")\n",
        "        fee_input = gr.Dropdown([0, 5, 10], label=\"服務費 (%)\", value=0)\n",
        "        people_input = gr.Number(label=\"分攤人數\", value=1)\n",
        "        desc_input = gr.Textbox(label=\"餐點/描述\")\n",
        "        aa_btn = gr.Button(\"送出\")\n",
        "        aa_output = gr.Textbox(label=\"結果\")\n",
        "        aa_btn.click(fn=aa_function, inputs=[total_input, fee_input, people_input, desc_input], outputs=aa_output)\n",
        "\n",
        "    # 板塊二\n",
        "    with gr.Tab(\"記帳功能\"):\n",
        "        type_input = gr.Dropdown([\"外食\", \"買菜\", \"日用品\"], label=\"種類\")\n",
        "        amount_input = gr.Number(label=\"金額\")\n",
        "        item_input = gr.Textbox(label=\"項目名稱\")\n",
        "        note_input = gr.Textbox(label=\"備註\")\n",
        "        record_btn = gr.Button(\"記錄消費\")\n",
        "        record_output = gr.Textbox(label=\"結果\")\n",
        "        record_btn.click(fn=record_expense, inputs=[type_input, amount_input, item_input, note_input], outputs=record_output)\n",
        "\n",
        "    # 板塊三\n",
        "    '''\n",
        "    with gr.Tab(\"AI 點子\"):\n",
        "        analyze_btn = gr.Button(\"查看最近一週消費\")\n",
        "        summary_output = gr.Dataframe(label=\"各種類總結\")\n",
        "        detail_output = gr.Dataframe(label=\"詳細消費\")\n",
        "        analyze_btn.click(fn=analyze_week, inputs=[], outputs=[summary_output, detail_output])\n",
        "\n",
        "        suggestion_btn = gr.Button(\"AI 給建議\")\n",
        "        suggestion_output = gr.Textbox(label=\"AI 建議\")\n",
        "        suggestion_btn.click(fn=ai_suggestion, outputs=suggestion_output)\n",
        "    '''\n",
        "    with gr.Tab(\"AI 點子\"):\n",
        "        gr.Markdown(\"### 💡 智能消費分析\")\n",
        "\n",
        "        with gr.Row():\n",
        "            with gr.Column():\n",
        "                analyze_btn = gr.Button(\"📊 查看最近一週消費\", variant=\"primary\")\n",
        "                suggestion_btn = gr.Button(\"🤖 AI 給建議\", variant=\"secondary\")\n",
        "\n",
        "        with gr.Row():\n",
        "            with gr.Column():\n",
        "                summary_output = gr.Dataframe(label=\"📈 各種類總結\")\n",
        "            with gr.Column():\n",
        "                detail_output = gr.Dataframe(label=\"📋 詳細消費\")\n",
        "\n",
        "        suggestion_output = gr.Textbox(\n",
        "            label=\"🎯 AI 建議\",\n",
        "            lines=10,\n",
        "            placeholder=\"點擊 'AI 給建議' 按鈕獲取個人化理財建議...\"\n",
        "        )\n",
        "\n",
        "        # 事件綁定\n",
        "        analyze_btn.click(\n",
        "            fn=analyze_week,\n",
        "            inputs=[],\n",
        "            outputs=[summary_output, detail_output]\n",
        "        )\n",
        "\n",
        "        suggestion_btn.click(\n",
        "            fn=ai_suggestion,\n",
        "            inputs=[],\n",
        "            outputs=suggestion_output\n",
        "        )\n",
        "\n",
        "\n",
        "\n",
        "# 啟動\n",
        "demo.launch()\n"
      ],
      "metadata": {
        "colab": {
          "base_uri": "https://localhost:8080/",
          "height": 646
        },
        "id": "68JMpCiwnNgS",
        "outputId": "56cfd777-7b1c-4b7c-d076-09851d46272d"
      },
      "execution_count": 37,
      "outputs": [
        {
          "output_type": "stream",
          "name": "stdout",
          "text": [
            "It looks like you are running Gradio on a hosted Jupyter notebook, which requires `share=True`. Automatically setting `share=True` (you can turn this off by setting `share=False` in `launch()` explicitly).\n",
            "\n",
            "Colab notebook detected. To show errors in colab notebook, set debug=True in launch()\n",
            "* Running on public URL: https://83a01317c4bce8838e.gradio.live\n",
            "\n",
            "This share link expires in 1 week. For free permanent hosting and GPU upgrades, run `gradio deploy` from the terminal in the working directory to deploy to Hugging Face Spaces (https://huggingface.co/spaces)\n"
          ]
        },
        {
          "output_type": "display_data",
          "data": {
            "text/plain": [
              "<IPython.core.display.HTML object>"
            ],
            "text/html": [
              "<div><iframe src=\"https://83a01317c4bce8838e.gradio.live\" width=\"100%\" height=\"500\" allow=\"autoplay; camera; microphone; clipboard-read; clipboard-write;\" frameborder=\"0\" allowfullscreen></iframe></div>"
            ]
          },
          "metadata": {}
        },
        {
          "output_type": "execute_result",
          "data": {
            "text/plain": []
          },
          "metadata": {},
          "execution_count": 37
        }
      ]
    },
    {
      "cell_type": "code",
      "source": [
        "# ==============================\n",
        "# 板塊三：AI 點子\n",
        "# ==============================\n",
        "def analyze_week():\n",
        "    data = worksheet.get_all_records()\n",
        "    df = pd.DataFrame(data)\n",
        "    df[\"時間\"] = pd.to_datetime(df[\"時間\"], errors=\"coerce\")\n",
        "\n",
        "    one_week_ago = datetime.datetime.now() - datetime.timedelta(days=7)\n",
        "    recent_df = df[df[\"時間\"] >= one_week_ago]\n",
        "\n",
        "    summary = recent_df.groupby(\"種類\")[\"金額\"].sum().reset_index()\n",
        "    detail = recent_df[[\"時間\", \"種類\", \"金額\", \"項目名稱\"]]\n",
        "\n",
        "    return summary, detail\n",
        "\n",
        "def format_data_for_ai(summary_df, detail_df):\n",
        "    \"\"\"將 DataFrame 轉換成 AI 可讀的文字格式\"\"\"\n",
        "    # 處理總結數據\n",
        "    summary_text = \"【最近一週消費總結】\\n\"\n",
        "    total_amount = 0\n",
        "    for _, row in summary_df.iterrows():\n",
        "        amount = row[\"金額\"]\n",
        "        category = row[\"種類\"]\n",
        "        summary_text += f\"- {category}: ${amount:,.0f}\\n\"\n",
        "        total_amount += amount\n",
        "    summary_text += f\"\\n總計: ${total_amount:,.0f}\\n\\n\"\n",
        "\n",
        "    # 處理詳細數據\n",
        "    detail_text = \"【詳細消費記錄】\\n\"\n",
        "    for _, row in detail_df.iterrows():\n",
        "        time = row[\"時間\"].strftime(\"%m/%d\") if pd.notna(row[\"時間\"]) else \"未知日期\"\n",
        "        category = row[\"種類\"]\n",
        "        amount = row[\"金額\"]\n",
        "        item = row[\"項目名稱\"]\n",
        "        detail_text += f\"{time} - {category} - ${amount:,.0f} - {item}\\n\"\n",
        "\n",
        "    return summary_text + detail_text\n",
        "\n",
        "def ai_suggestion():\n",
        "    \"\"\"獲取 AI 建議\"\"\"\n",
        "    try:\n",
        "        # 先獲取最近一週的數據\n",
        "        summary, detail = analyze_week()\n",
        "\n",
        "        # 檢查是否有數據\n",
        "        if summary.empty:\n",
        "            return \"沒有找到最近一週的消費記錄，請先添加一些消費數據。\"\n",
        "\n",
        "        # 將數據格式化為文字\n",
        "        formatted_data = format_data_for_ai(summary, detail)\n",
        "\n",
        "        # 準備 AI 分析\n",
        "        system_prompt = '''你是一個消費與理財分析專家，專門分析使用者的消費數據。請以專業、清晰且友善的語氣，對以下消費數據提供建議。\n",
        "\n",
        "分析內容應包括：\n",
        "1. 消費習慣觀察（例如：外食頻率過高、日用品花費分布）\n",
        "2. 主要花費項目與金額占比\n",
        "3. 節省或調整建議\n",
        "4. 理財提醒與下一步行動建議\n",
        "\n",
        "請用台灣熟悉的繁體中文回答。\n",
        "請保持語氣親切、實用，不要加不必要的示例或說明文字。\n",
        "'''\n",
        "\n",
        "        # 調用 AI API\n",
        "        messages = [\n",
        "            {\"role\": \"system\", \"content\": system_prompt},\n",
        "            {\"role\": \"user\", \"content\": f\"請分析以下消費數據並提供建議：\\n\\n{formatted_data}\"}\n",
        "        ]\n",
        "\n",
        "        chat_completion = client.chat.completions.create(\n",
        "            messages=messages,\n",
        "            model=model,\n",
        "        )\n",
        "\n",
        "        reply = chat_completion.choices[0].message.content\n",
        "        return reply\n",
        "\n",
        "    except Exception as e:\n",
        "        return f\"AI 分析過程中發生錯誤: {str(e)}\"\n",
        "\n"
      ],
      "metadata": {
        "id": "9bWlQa_fyk1G"
      },
      "execution_count": 36,
      "outputs": []
    }
  ]
}